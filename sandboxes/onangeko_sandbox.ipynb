{
 "cells": [
  {
   "cell_type": "code",
   "execution_count": 9,
   "id": "6abf325a4bde6fb9",
   "metadata": {
    "collapsed": true,
    "ExecuteTime": {
     "end_time": "2024-03-22T14:47:08.702274Z",
     "start_time": "2024-03-22T14:47:08.694099Z"
    }
   },
   "outputs": [],
   "source": [
    "from ultralytics import YOLO\n",
    "import os\n",
    "import cv2\n",
    "import pafy\n",
    "from cap_from_youtube import cap_from_youtube\n"
   ]
  },
  {
   "cell_type": "code",
   "execution_count": 10,
   "outputs": [],
   "source": [
    "# os.environ[\"KMP_DUPLICATE_LIB_OK\"]=\"TRUE\"\n",
    "# \n",
    "# model = YOLO('yolov8n.pt')  # Load model\n",
    "# \n",
    "# # Train the model\n",
    "# results = model.train(data='VisDrone.yaml', epochs=100, imgsz=640,workers=0)"
   ],
   "metadata": {
    "collapsed": false,
    "ExecuteTime": {
     "end_time": "2024-03-22T14:47:08.730576400Z",
     "start_time": "2024-03-22T14:47:08.702274Z"
    }
   },
   "id": "initial_id"
  },
  {
   "cell_type": "code",
   "execution_count": 11,
   "outputs": [],
   "source": [
    "path_to_weights = '../sandboxes/best.pt'\n",
    "model = YOLO(path_to_weights)\n",
    "\n",
    "# Open the video file\n",
    "# url = \"https://www.youtube.com/watch?v=RTwNEfirmks\"\n",
    "# vPafy = pafy.new(url).getbest(preftype=\"mp4\").get_url()\n",
    "\n",
    "video ='https://hd-auth.skylinewebcams.com/live.m3u8?a=tn0asoqgmeojsdo4vm8h9n2876'\n",
    "\n",
    "HEIGHT = 640\n",
    "WIDTH = 480\n",
    "\n",
    "# cap = cv2.VideoCapture(vPafy)\n",
    "cap = cv2.VideoCapture(video)\n",
    "cap.set(cv2.CAP_PROP_FRAME_WIDTH, WIDTH)\n",
    "cap.set(cv2.CAP_PROP_FRAME_HEIGHT, HEIGHT)\n",
    "\n",
    "# Loop through the video frames\n",
    "while cap.isOpened():\n",
    "    # Read a frame from the video\n",
    "    success, frame = cap.read()\n",
    "\n",
    "    if success:\n",
    "        # Run YOLOv8 tracking on the frame, persisting tracks between frames\n",
    "        results = model.predict(frame,iou=0.8,retina_masks=True)\n",
    "\n",
    "        # Visualize the results on the frame\n",
    "        annotated_frame = results[0].plot()\n",
    "\n",
    "        # Display the annotated frame\n",
    "        cv2.imshow(\"YOLOv8 Tracking\", annotated_frame)\n",
    "\n",
    "        # Break the loop if 'q' is pressed\n",
    "        if cv2.waitKey(1) & 0xFF == ord(\"q\"):\n",
    "            break\n",
    "    else:\n",
    "        # Break the loop if the end of the video is reached\n",
    "        break\n",
    "\n",
    "# Release the video capture object and close the display window\n",
    "cap.release()\n",
    "cv2.destroyAllWindows()"
   ],
   "metadata": {
    "collapsed": false,
    "ExecuteTime": {
     "end_time": "2024-03-22T14:47:09.549025500Z",
     "start_time": "2024-03-22T14:47:08.728893500Z"
    }
   },
   "id": "999d02b0e3bed1c9"
  },
  {
   "cell_type": "code",
   "execution_count": 12,
   "outputs": [],
   "source": [
    "# path_to_weights = '../sandboxes/best.pt'\n",
    "# model = YOLO(path_to_weights)\n",
    "# \n",
    "# # HEIGHT = 640\n",
    "# # WIDTH = 480\n",
    "# # \n",
    "# # # Open the video file\n",
    "# # url = \"https://www.youtube.com/watch?v=nPTO6uxt1aE\"\n",
    "# # cap = cap_from_youtube(url, '720p')\n",
    "# # cap.set(cv2.CAP_PROP_FRAME_WIDTH, WIDTH)\n",
    "# # cap.set(cv2.CAP_PROP_FRAME_HEIGHT, HEIGHT)\n",
    "# # \n",
    "# # while cap.isOpened():\n",
    "# #     # Read a frame from the video\n",
    "# #     success, frame = cap.read()\n",
    "# # \n",
    "# #     if success:\n",
    "# #         # Run YOLOv8 tracking on the frame, persisting tracks between frames\n",
    "# #         results = model.predict(frame,classes=[0,3,5,8],iou=0.8,retina_masks=True)  \n",
    "# # \n",
    "# # \n",
    "# #         # Visualize the results on the frame\n",
    "# #         annotated_frame = results[0].plot()\n",
    "# # \n",
    "# #         # Display the annotated frame\n",
    "# #         cv2.imshow(\"YOLOv8 Tracking\", annotated_frame)\n",
    "# # \n",
    "# #         # Break the loop if 'q' is pressed\n",
    "# #         if cv2.waitKey(1) & 0xFF == ord(\"q\"):\n",
    "# #             break\n",
    "# #     else:\n",
    "# #         # Break the loop if the end of the video is reached\n",
    "# #         break\n",
    "# # \n",
    "# # # Release the video capture object and close the display window\n",
    "# # cap.release()\n",
    "# # cv2.destroyAllWindows()"
   ],
   "metadata": {
    "collapsed": false,
    "ExecuteTime": {
     "end_time": "2024-03-22T14:47:09.565891600Z",
     "start_time": "2024-03-22T14:47:09.549025500Z"
    }
   },
   "id": "39a2f38b95d07ec2"
  }
 ],
 "metadata": {
  "kernelspec": {
   "display_name": "Python 3",
   "language": "python",
   "name": "python3"
  },
  "language_info": {
   "codemirror_mode": {
    "name": "ipython",
    "version": 2
   },
   "file_extension": ".py",
   "mimetype": "text/x-python",
   "name": "python",
   "nbconvert_exporter": "python",
   "pygments_lexer": "ipython2",
   "version": "2.7.6"
  }
 },
 "nbformat": 4,
 "nbformat_minor": 5
}
