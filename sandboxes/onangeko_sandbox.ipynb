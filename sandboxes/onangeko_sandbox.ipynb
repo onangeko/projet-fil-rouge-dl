{
 "cells": [
  {
   "cell_type": "code",
   "execution_count": 5,
   "id": "6abf325a4bde6fb9",
   "metadata": {
    "collapsed": true,
    "ExecuteTime": {
     "end_time": "2024-03-19T21:21:40.460805500Z",
     "start_time": "2024-03-19T21:21:40.008912200Z"
    }
   },
   "outputs": [],
   "source": [
    "from ultralytics import YOLO\n",
    "import os\n",
    "import cv2\n",
    "import pafy\n"
   ]
  },
  {
   "cell_type": "code",
   "execution_count": 2,
   "outputs": [],
   "source": [
    "# os.environ[\"KMP_DUPLICATE_LIB_OK\"]=\"TRUE\"\n",
    "# \n",
    "# model = YOLO('yolov8n.pt')  # Load model\n",
    "# \n",
    "# # Train the model\n",
    "# results = model.train(data='VisDrone.yaml', epochs=100, imgsz=640,workers=0)"
   ],
   "metadata": {
    "collapsed": false,
    "ExecuteTime": {
     "end_time": "2024-03-19T21:16:09.691662800Z",
     "start_time": "2024-03-19T21:16:09.687654500Z"
    }
   },
   "id": "initial_id"
  },
  {
   "cell_type": "code",
   "execution_count": 6,
   "outputs": [
    {
     "name": "stderr",
     "output_type": "stream",
     "text": [
      "ERROR: Unable to extract uploader id; please report this issue on https://yt-dl.org/bug . Make sure you are using the latest version; see  https://yt-dl.org/update  on how to update. Be sure to call youtube-dl with the --verbose flag and include its complete output.\n"
     ]
    },
    {
     "ename": "OSError",
     "evalue": "ERROR: Unable to extract uploader id; please report this issue on https://yt-dl.org/bug . Make sure you are using the latest version; see  https://yt-dl.org/update  on how to update. Be sure to call youtube-dl with the --verbose flag and include its complete output.",
     "output_type": "error",
     "traceback": [
      "\u001B[1;31m---------------------------------------------------------------------------\u001B[0m",
      "\u001B[1;31mRegexNotFoundError\u001B[0m                        Traceback (most recent call last)",
      "File \u001B[1;32m~\\miniconda3\\Lib\\site-packages\\youtube_dl\\YoutubeDL.py:815\u001B[0m, in \u001B[0;36mYoutubeDL.__handle_extraction_exceptions.<locals>.wrapper\u001B[1;34m(self, *args, **kwargs)\u001B[0m\n\u001B[0;32m    814\u001B[0m \u001B[38;5;28;01mtry\u001B[39;00m:\n\u001B[1;32m--> 815\u001B[0m     \u001B[38;5;28;01mreturn\u001B[39;00m func(\u001B[38;5;28mself\u001B[39m, \u001B[38;5;241m*\u001B[39margs, \u001B[38;5;241m*\u001B[39m\u001B[38;5;241m*\u001B[39mkwargs)\n\u001B[0;32m    816\u001B[0m \u001B[38;5;28;01mexcept\u001B[39;00m GeoRestrictedError \u001B[38;5;28;01mas\u001B[39;00m e:\n",
      "File \u001B[1;32m~\\miniconda3\\Lib\\site-packages\\youtube_dl\\YoutubeDL.py:836\u001B[0m, in \u001B[0;36mYoutubeDL.__extract_info\u001B[1;34m(self, url, ie, download, extra_info, process)\u001B[0m\n\u001B[0;32m    834\u001B[0m \u001B[38;5;129m@__handle_extraction_exceptions\u001B[39m\n\u001B[0;32m    835\u001B[0m \u001B[38;5;28;01mdef\u001B[39;00m \u001B[38;5;21m__extract_info\u001B[39m(\u001B[38;5;28mself\u001B[39m, url, ie, download, extra_info, process):\n\u001B[1;32m--> 836\u001B[0m     ie_result \u001B[38;5;241m=\u001B[39m ie\u001B[38;5;241m.\u001B[39mextract(url)\n\u001B[0;32m    837\u001B[0m     \u001B[38;5;28;01mif\u001B[39;00m ie_result \u001B[38;5;129;01mis\u001B[39;00m \u001B[38;5;28;01mNone\u001B[39;00m:  \u001B[38;5;66;03m# Finished already (backwards compatibility; listformats and friends should be moved here)\u001B[39;00m\n",
      "File \u001B[1;32m~\\miniconda3\\Lib\\site-packages\\youtube_dl\\extractor\\common.py:534\u001B[0m, in \u001B[0;36mInfoExtractor.extract\u001B[1;34m(self, url)\u001B[0m\n\u001B[0;32m    533\u001B[0m \u001B[38;5;28mself\u001B[39m\u001B[38;5;241m.\u001B[39minitialize()\n\u001B[1;32m--> 534\u001B[0m ie_result \u001B[38;5;241m=\u001B[39m \u001B[38;5;28mself\u001B[39m\u001B[38;5;241m.\u001B[39m_real_extract(url)\n\u001B[0;32m    535\u001B[0m \u001B[38;5;28;01mif\u001B[39;00m \u001B[38;5;28mself\u001B[39m\u001B[38;5;241m.\u001B[39m_x_forwarded_for_ip:\n",
      "File \u001B[1;32m~\\miniconda3\\Lib\\site-packages\\youtube_dl\\extractor\\youtube.py:1794\u001B[0m, in \u001B[0;36mYoutubeIE._real_extract\u001B[1;34m(self, url)\u001B[0m\n\u001B[0;32m   1782\u001B[0m owner_profile_url \u001B[38;5;241m=\u001B[39m microformat\u001B[38;5;241m.\u001B[39mget(\u001B[38;5;124m'\u001B[39m\u001B[38;5;124mownerProfileUrl\u001B[39m\u001B[38;5;124m'\u001B[39m)\n\u001B[0;32m   1784\u001B[0m info \u001B[38;5;241m=\u001B[39m {\n\u001B[0;32m   1785\u001B[0m     \u001B[38;5;124m'\u001B[39m\u001B[38;5;124mid\u001B[39m\u001B[38;5;124m'\u001B[39m: video_id,\n\u001B[0;32m   1786\u001B[0m     \u001B[38;5;124m'\u001B[39m\u001B[38;5;124mtitle\u001B[39m\u001B[38;5;124m'\u001B[39m: \u001B[38;5;28mself\u001B[39m\u001B[38;5;241m.\u001B[39m_live_title(video_title) \u001B[38;5;28;01mif\u001B[39;00m is_live \u001B[38;5;28;01melse\u001B[39;00m video_title,\n\u001B[0;32m   1787\u001B[0m     \u001B[38;5;124m'\u001B[39m\u001B[38;5;124mformats\u001B[39m\u001B[38;5;124m'\u001B[39m: formats,\n\u001B[0;32m   1788\u001B[0m     \u001B[38;5;124m'\u001B[39m\u001B[38;5;124mthumbnails\u001B[39m\u001B[38;5;124m'\u001B[39m: thumbnails,\n\u001B[0;32m   1789\u001B[0m     \u001B[38;5;124m'\u001B[39m\u001B[38;5;124mdescription\u001B[39m\u001B[38;5;124m'\u001B[39m: video_description,\n\u001B[0;32m   1790\u001B[0m     \u001B[38;5;124m'\u001B[39m\u001B[38;5;124mupload_date\u001B[39m\u001B[38;5;124m'\u001B[39m: unified_strdate(\n\u001B[0;32m   1791\u001B[0m         microformat\u001B[38;5;241m.\u001B[39mget(\u001B[38;5;124m'\u001B[39m\u001B[38;5;124muploadDate\u001B[39m\u001B[38;5;124m'\u001B[39m)\n\u001B[0;32m   1792\u001B[0m         \u001B[38;5;129;01mor\u001B[39;00m search_meta(\u001B[38;5;124m'\u001B[39m\u001B[38;5;124muploadDate\u001B[39m\u001B[38;5;124m'\u001B[39m)),\n\u001B[0;32m   1793\u001B[0m     \u001B[38;5;124m'\u001B[39m\u001B[38;5;124muploader\u001B[39m\u001B[38;5;124m'\u001B[39m: video_details[\u001B[38;5;124m'\u001B[39m\u001B[38;5;124mauthor\u001B[39m\u001B[38;5;124m'\u001B[39m],\n\u001B[1;32m-> 1794\u001B[0m     \u001B[38;5;124m'\u001B[39m\u001B[38;5;124muploader_id\u001B[39m\u001B[38;5;124m'\u001B[39m: \u001B[38;5;28mself\u001B[39m\u001B[38;5;241m.\u001B[39m_search_regex(\u001B[38;5;124mr\u001B[39m\u001B[38;5;124m'\u001B[39m\u001B[38;5;124m/(?:channel|user)/([^/?&#]+)\u001B[39m\u001B[38;5;124m'\u001B[39m, owner_profile_url, \u001B[38;5;124m'\u001B[39m\u001B[38;5;124muploader id\u001B[39m\u001B[38;5;124m'\u001B[39m) \u001B[38;5;28;01mif\u001B[39;00m owner_profile_url \u001B[38;5;28;01melse\u001B[39;00m \u001B[38;5;28;01mNone\u001B[39;00m,\n\u001B[0;32m   1795\u001B[0m     \u001B[38;5;124m'\u001B[39m\u001B[38;5;124muploader_url\u001B[39m\u001B[38;5;124m'\u001B[39m: owner_profile_url,\n\u001B[0;32m   1796\u001B[0m     \u001B[38;5;124m'\u001B[39m\u001B[38;5;124mchannel_id\u001B[39m\u001B[38;5;124m'\u001B[39m: channel_id,\n\u001B[0;32m   1797\u001B[0m     \u001B[38;5;124m'\u001B[39m\u001B[38;5;124mchannel_url\u001B[39m\u001B[38;5;124m'\u001B[39m: \u001B[38;5;124m'\u001B[39m\u001B[38;5;124mhttps://www.youtube.com/channel/\u001B[39m\u001B[38;5;124m'\u001B[39m \u001B[38;5;241m+\u001B[39m channel_id \u001B[38;5;28;01mif\u001B[39;00m channel_id \u001B[38;5;28;01melse\u001B[39;00m \u001B[38;5;28;01mNone\u001B[39;00m,\n\u001B[0;32m   1798\u001B[0m     \u001B[38;5;124m'\u001B[39m\u001B[38;5;124mduration\u001B[39m\u001B[38;5;124m'\u001B[39m: duration,\n\u001B[0;32m   1799\u001B[0m     \u001B[38;5;124m'\u001B[39m\u001B[38;5;124mview_count\u001B[39m\u001B[38;5;124m'\u001B[39m: int_or_none(\n\u001B[0;32m   1800\u001B[0m         video_details\u001B[38;5;241m.\u001B[39mget(\u001B[38;5;124m'\u001B[39m\u001B[38;5;124mviewCount\u001B[39m\u001B[38;5;124m'\u001B[39m)\n\u001B[0;32m   1801\u001B[0m         \u001B[38;5;129;01mor\u001B[39;00m microformat\u001B[38;5;241m.\u001B[39mget(\u001B[38;5;124m'\u001B[39m\u001B[38;5;124mviewCount\u001B[39m\u001B[38;5;124m'\u001B[39m)\n\u001B[0;32m   1802\u001B[0m         \u001B[38;5;129;01mor\u001B[39;00m search_meta(\u001B[38;5;124m'\u001B[39m\u001B[38;5;124minteractionCount\u001B[39m\u001B[38;5;124m'\u001B[39m)),\n\u001B[0;32m   1803\u001B[0m     \u001B[38;5;124m'\u001B[39m\u001B[38;5;124maverage_rating\u001B[39m\u001B[38;5;124m'\u001B[39m: float_or_none(video_details\u001B[38;5;241m.\u001B[39mget(\u001B[38;5;124m'\u001B[39m\u001B[38;5;124maverageRating\u001B[39m\u001B[38;5;124m'\u001B[39m)),\n\u001B[0;32m   1804\u001B[0m     \u001B[38;5;124m'\u001B[39m\u001B[38;5;124mage_limit\u001B[39m\u001B[38;5;124m'\u001B[39m: \u001B[38;5;241m18\u001B[39m \u001B[38;5;28;01mif\u001B[39;00m (\n\u001B[0;32m   1805\u001B[0m         microformat\u001B[38;5;241m.\u001B[39mget(\u001B[38;5;124m'\u001B[39m\u001B[38;5;124misFamilySafe\u001B[39m\u001B[38;5;124m'\u001B[39m) \u001B[38;5;129;01mis\u001B[39;00m \u001B[38;5;28;01mFalse\u001B[39;00m\n\u001B[0;32m   1806\u001B[0m         \u001B[38;5;129;01mor\u001B[39;00m search_meta(\u001B[38;5;124m'\u001B[39m\u001B[38;5;124misFamilyFriendly\u001B[39m\u001B[38;5;124m'\u001B[39m) \u001B[38;5;241m==\u001B[39m \u001B[38;5;124m'\u001B[39m\u001B[38;5;124mfalse\u001B[39m\u001B[38;5;124m'\u001B[39m\n\u001B[0;32m   1807\u001B[0m         \u001B[38;5;129;01mor\u001B[39;00m search_meta(\u001B[38;5;124m'\u001B[39m\u001B[38;5;124mog:restrictions:age\u001B[39m\u001B[38;5;124m'\u001B[39m) \u001B[38;5;241m==\u001B[39m \u001B[38;5;124m'\u001B[39m\u001B[38;5;124m18+\u001B[39m\u001B[38;5;124m'\u001B[39m) \u001B[38;5;28;01melse\u001B[39;00m \u001B[38;5;241m0\u001B[39m,\n\u001B[0;32m   1808\u001B[0m     \u001B[38;5;124m'\u001B[39m\u001B[38;5;124mwebpage_url\u001B[39m\u001B[38;5;124m'\u001B[39m: webpage_url,\n\u001B[0;32m   1809\u001B[0m     \u001B[38;5;124m'\u001B[39m\u001B[38;5;124mcategories\u001B[39m\u001B[38;5;124m'\u001B[39m: [category] \u001B[38;5;28;01mif\u001B[39;00m category \u001B[38;5;28;01melse\u001B[39;00m \u001B[38;5;28;01mNone\u001B[39;00m,\n\u001B[0;32m   1810\u001B[0m     \u001B[38;5;124m'\u001B[39m\u001B[38;5;124mtags\u001B[39m\u001B[38;5;124m'\u001B[39m: keywords,\n\u001B[0;32m   1811\u001B[0m     \u001B[38;5;124m'\u001B[39m\u001B[38;5;124mis_live\u001B[39m\u001B[38;5;124m'\u001B[39m: is_live,\n\u001B[0;32m   1812\u001B[0m }\n\u001B[0;32m   1814\u001B[0m pctr \u001B[38;5;241m=\u001B[39m try_get(\n\u001B[0;32m   1815\u001B[0m     player_response,\n\u001B[0;32m   1816\u001B[0m     \u001B[38;5;28;01mlambda\u001B[39;00m x: x[\u001B[38;5;124m'\u001B[39m\u001B[38;5;124mcaptions\u001B[39m\u001B[38;5;124m'\u001B[39m][\u001B[38;5;124m'\u001B[39m\u001B[38;5;124mplayerCaptionsTracklistRenderer\u001B[39m\u001B[38;5;124m'\u001B[39m], \u001B[38;5;28mdict\u001B[39m)\n",
      "File \u001B[1;32m~\\miniconda3\\Lib\\site-packages\\youtube_dl\\extractor\\common.py:1012\u001B[0m, in \u001B[0;36mInfoExtractor._search_regex\u001B[1;34m(self, pattern, string, name, default, fatal, flags, group)\u001B[0m\n\u001B[0;32m   1011\u001B[0m \u001B[38;5;28;01melif\u001B[39;00m fatal:\n\u001B[1;32m-> 1012\u001B[0m     \u001B[38;5;28;01mraise\u001B[39;00m RegexNotFoundError(\u001B[38;5;124m'\u001B[39m\u001B[38;5;124mUnable to extract \u001B[39m\u001B[38;5;132;01m%s\u001B[39;00m\u001B[38;5;124m'\u001B[39m \u001B[38;5;241m%\u001B[39m _name)\n\u001B[0;32m   1013\u001B[0m \u001B[38;5;28;01melse\u001B[39;00m:\n",
      "\u001B[1;31mRegexNotFoundError\u001B[0m: Unable to extract uploader id; please report this issue on https://yt-dl.org/bug . Make sure you are using the latest version; see  https://yt-dl.org/update  on how to update. Be sure to call youtube-dl with the --verbose flag and include its complete output.",
      "\nDuring handling of the above exception, another exception occurred:\n",
      "\u001B[1;31mDownloadError\u001B[0m                             Traceback (most recent call last)",
      "File \u001B[1;32m~\\miniconda3\\Lib\\site-packages\\pafy\\backend_youtube_dl.py:40\u001B[0m, in \u001B[0;36mYtdlPafy._fetch_basic\u001B[1;34m(self)\u001B[0m\n\u001B[0;32m     39\u001B[0m \u001B[38;5;28;01mtry\u001B[39;00m:\n\u001B[1;32m---> 40\u001B[0m     \u001B[38;5;28mself\u001B[39m\u001B[38;5;241m.\u001B[39m_ydl_info \u001B[38;5;241m=\u001B[39m ydl\u001B[38;5;241m.\u001B[39mextract_info(\u001B[38;5;28mself\u001B[39m\u001B[38;5;241m.\u001B[39mvideoid, download\u001B[38;5;241m=\u001B[39m\u001B[38;5;28;01mFalse\u001B[39;00m)\n\u001B[0;32m     41\u001B[0m \u001B[38;5;66;03m# Turn into an IOError since that is what pafy previously raised\u001B[39;00m\n",
      "File \u001B[1;32m~\\miniconda3\\Lib\\site-packages\\youtube_dl\\YoutubeDL.py:808\u001B[0m, in \u001B[0;36mYoutubeDL.extract_info\u001B[1;34m(self, url, download, ie_key, extra_info, process, force_generic_extractor)\u001B[0m\n\u001B[0;32m    805\u001B[0m         \u001B[38;5;28mself\u001B[39m\u001B[38;5;241m.\u001B[39mreport_warning(\u001B[38;5;124m'\u001B[39m\u001B[38;5;124mThe program functionality for this site has been marked as broken, \u001B[39m\u001B[38;5;124m'\u001B[39m\n\u001B[0;32m    806\u001B[0m                             \u001B[38;5;124m'\u001B[39m\u001B[38;5;124mand will probably not work.\u001B[39m\u001B[38;5;124m'\u001B[39m)\n\u001B[1;32m--> 808\u001B[0m     \u001B[38;5;28;01mreturn\u001B[39;00m \u001B[38;5;28mself\u001B[39m\u001B[38;5;241m.\u001B[39m__extract_info(url, ie, download, extra_info, process)\n\u001B[0;32m    809\u001B[0m \u001B[38;5;28;01melse\u001B[39;00m:\n",
      "File \u001B[1;32m~\\miniconda3\\Lib\\site-packages\\youtube_dl\\YoutubeDL.py:824\u001B[0m, in \u001B[0;36mYoutubeDL.__handle_extraction_exceptions.<locals>.wrapper\u001B[1;34m(self, *args, **kwargs)\u001B[0m\n\u001B[0;32m    823\u001B[0m \u001B[38;5;28;01mexcept\u001B[39;00m ExtractorError \u001B[38;5;28;01mas\u001B[39;00m e:  \u001B[38;5;66;03m# An error we somewhat expected\u001B[39;00m\n\u001B[1;32m--> 824\u001B[0m     \u001B[38;5;28mself\u001B[39m\u001B[38;5;241m.\u001B[39mreport_error(compat_str(e), e\u001B[38;5;241m.\u001B[39mformat_traceback())\n\u001B[0;32m    825\u001B[0m \u001B[38;5;28;01mexcept\u001B[39;00m MaxDownloadsReached:\n",
      "File \u001B[1;32m~\\miniconda3\\Lib\\site-packages\\youtube_dl\\YoutubeDL.py:628\u001B[0m, in \u001B[0;36mYoutubeDL.report_error\u001B[1;34m(self, message, tb)\u001B[0m\n\u001B[0;32m    627\u001B[0m error_message \u001B[38;5;241m=\u001B[39m \u001B[38;5;124m'\u001B[39m\u001B[38;5;132;01m%s\u001B[39;00m\u001B[38;5;124m \u001B[39m\u001B[38;5;132;01m%s\u001B[39;00m\u001B[38;5;124m'\u001B[39m \u001B[38;5;241m%\u001B[39m (_msg_header, message)\n\u001B[1;32m--> 628\u001B[0m \u001B[38;5;28mself\u001B[39m\u001B[38;5;241m.\u001B[39mtrouble(error_message, tb)\n",
      "File \u001B[1;32m~\\miniconda3\\Lib\\site-packages\\youtube_dl\\YoutubeDL.py:598\u001B[0m, in \u001B[0;36mYoutubeDL.trouble\u001B[1;34m(self, message, tb)\u001B[0m\n\u001B[0;32m    597\u001B[0m         exc_info \u001B[38;5;241m=\u001B[39m sys\u001B[38;5;241m.\u001B[39mexc_info()\n\u001B[1;32m--> 598\u001B[0m     \u001B[38;5;28;01mraise\u001B[39;00m DownloadError(message, exc_info)\n\u001B[0;32m    599\u001B[0m \u001B[38;5;28mself\u001B[39m\u001B[38;5;241m.\u001B[39m_download_retcode \u001B[38;5;241m=\u001B[39m \u001B[38;5;241m1\u001B[39m\n",
      "\u001B[1;31mDownloadError\u001B[0m: ERROR: Unable to extract uploader id; please report this issue on https://yt-dl.org/bug . Make sure you are using the latest version; see  https://yt-dl.org/update  on how to update. Be sure to call youtube-dl with the --verbose flag and include its complete output.",
      "\nDuring handling of the above exception, another exception occurred:\n",
      "\u001B[1;31mOSError\u001B[0m                                   Traceback (most recent call last)",
      "Cell \u001B[1;32mIn[6], line 6\u001B[0m\n\u001B[0;32m      4\u001B[0m \u001B[38;5;66;03m# Open the video file\u001B[39;00m\n\u001B[0;32m      5\u001B[0m url \u001B[38;5;241m=\u001B[39m \u001B[38;5;124m\"\u001B[39m\u001B[38;5;124mhttps://youtu.be/RTwNEfirmks\u001B[39m\u001B[38;5;124m\"\u001B[39m\n\u001B[1;32m----> 6\u001B[0m vPafy \u001B[38;5;241m=\u001B[39m pafy\u001B[38;5;241m.\u001B[39mnew(url)\n\u001B[0;32m      7\u001B[0m play \u001B[38;5;241m=\u001B[39m vPafy\u001B[38;5;241m.\u001B[39mgetbest(preftype\u001B[38;5;241m=\u001B[39m\u001B[38;5;124m\"\u001B[39m\u001B[38;5;124mwebm\u001B[39m\u001B[38;5;124m\"\u001B[39m)\n\u001B[0;32m      8\u001B[0m cap \u001B[38;5;241m=\u001B[39m cv2\u001B[38;5;241m.\u001B[39mVideoCapture(play\u001B[38;5;241m.\u001B[39murl)\n",
      "File \u001B[1;32m~\\miniconda3\\Lib\\site-packages\\pafy\\pafy.py:124\u001B[0m, in \u001B[0;36mnew\u001B[1;34m(url, basic, gdata, size, callback, ydl_opts)\u001B[0m\n\u001B[0;32m    121\u001B[0m     \u001B[38;5;28;01melse\u001B[39;00m:\n\u001B[0;32m    122\u001B[0m        \u001B[38;5;28;01mfrom\u001B[39;00m \u001B[38;5;21;01m.\u001B[39;00m\u001B[38;5;21;01mbackend_youtube_dl\u001B[39;00m \u001B[38;5;28;01mimport\u001B[39;00m YtdlPafy \u001B[38;5;28;01mas\u001B[39;00m Pafy\n\u001B[1;32m--> 124\u001B[0m \u001B[38;5;28;01mreturn\u001B[39;00m Pafy(url, basic, gdata, size, callback, ydl_opts\u001B[38;5;241m=\u001B[39mydl_opts)\n",
      "File \u001B[1;32m~\\miniconda3\\Lib\\site-packages\\pafy\\backend_youtube_dl.py:31\u001B[0m, in \u001B[0;36mYtdlPafy.__init__\u001B[1;34m(self, *args, **kwargs)\u001B[0m\n\u001B[0;32m     29\u001B[0m \u001B[38;5;28;01mif\u001B[39;00m ydl_opts:\n\u001B[0;32m     30\u001B[0m     \u001B[38;5;28mself\u001B[39m\u001B[38;5;241m.\u001B[39m_ydl_opts\u001B[38;5;241m.\u001B[39mupdate(ydl_opts)\n\u001B[1;32m---> 31\u001B[0m \u001B[38;5;28msuper\u001B[39m(YtdlPafy, \u001B[38;5;28mself\u001B[39m)\u001B[38;5;241m.\u001B[39m\u001B[38;5;21m__init__\u001B[39m(\u001B[38;5;241m*\u001B[39margs, \u001B[38;5;241m*\u001B[39m\u001B[38;5;241m*\u001B[39mkwargs)\n",
      "File \u001B[1;32m~\\miniconda3\\Lib\\site-packages\\pafy\\backend_shared.py:97\u001B[0m, in \u001B[0;36mBasePafy.__init__\u001B[1;34m(self, video_url, basic, gdata, size, callback, ydl_opts)\u001B[0m\n\u001B[0;32m     94\u001B[0m \u001B[38;5;28mself\u001B[39m\u001B[38;5;241m.\u001B[39mexpiry \u001B[38;5;241m=\u001B[39m \u001B[38;5;28;01mNone\u001B[39;00m\n\u001B[0;32m     96\u001B[0m \u001B[38;5;28;01mif\u001B[39;00m basic:\n\u001B[1;32m---> 97\u001B[0m     \u001B[38;5;28mself\u001B[39m\u001B[38;5;241m.\u001B[39m_fetch_basic()\n\u001B[0;32m     99\u001B[0m \u001B[38;5;28;01mif\u001B[39;00m gdata:\n\u001B[0;32m    100\u001B[0m     \u001B[38;5;28mself\u001B[39m\u001B[38;5;241m.\u001B[39m_fetch_gdata()\n",
      "File \u001B[1;32m~\\miniconda3\\Lib\\site-packages\\pafy\\backend_youtube_dl.py:43\u001B[0m, in \u001B[0;36mYtdlPafy._fetch_basic\u001B[1;34m(self)\u001B[0m\n\u001B[0;32m     41\u001B[0m     \u001B[38;5;66;03m# Turn into an IOError since that is what pafy previously raised\u001B[39;00m\n\u001B[0;32m     42\u001B[0m     \u001B[38;5;28;01mexcept\u001B[39;00m youtube_dl\u001B[38;5;241m.\u001B[39mutils\u001B[38;5;241m.\u001B[39mDownloadError \u001B[38;5;28;01mas\u001B[39;00m e:\n\u001B[1;32m---> 43\u001B[0m         \u001B[38;5;28;01mraise\u001B[39;00m \u001B[38;5;167;01mIOError\u001B[39;00m(\u001B[38;5;28mstr\u001B[39m(e)\u001B[38;5;241m.\u001B[39mreplace(\u001B[38;5;124m'\u001B[39m\u001B[38;5;124mYouTube said\u001B[39m\u001B[38;5;124m'\u001B[39m, \u001B[38;5;124m'\u001B[39m\u001B[38;5;124mYoutube says\u001B[39m\u001B[38;5;124m'\u001B[39m))\n\u001B[0;32m     45\u001B[0m \u001B[38;5;28;01mif\u001B[39;00m \u001B[38;5;28mself\u001B[39m\u001B[38;5;241m.\u001B[39mcallback:\n\u001B[0;32m     46\u001B[0m     \u001B[38;5;28mself\u001B[39m\u001B[38;5;241m.\u001B[39mcallback(\u001B[38;5;124m\"\u001B[39m\u001B[38;5;124mFetched video info\u001B[39m\u001B[38;5;124m\"\u001B[39m)\n",
      "\u001B[1;31mOSError\u001B[0m: ERROR: Unable to extract uploader id; please report this issue on https://yt-dl.org/bug . Make sure you are using the latest version; see  https://yt-dl.org/update  on how to update. Be sure to call youtube-dl with the --verbose flag and include its complete output."
     ]
    }
   ],
   "source": [
    "path_to_weights = 'runs/detect/train/weights/best.pt'\n",
    "model = YOLO(path_to_weights)\n",
    "\n",
    "# Open the video file\n",
    "url = \"https://youtu.be/RTwNEfirmks\"\n",
    "vPafy = pafy.new(url)\n",
    "play = vPafy.getbest(preftype=\"webm\")\n",
    "cap = cv2.VideoCapture(play.url)\n",
    "\n",
    "# Loop through the video frames\n",
    "while cap.isOpened():\n",
    "    # Read a frame from the video\n",
    "    success, frame = cap.read()\n",
    "\n",
    "    if success:\n",
    "        # Run YOLOv8 tracking on the frame, persisting tracks between frames\n",
    "        results = model.track(frame, persist=True)\n",
    "\n",
    "        # Visualize the results on the frame\n",
    "        annotated_frame = results[0].plot()\n",
    "\n",
    "        # Display the annotated frame\n",
    "        cv2.imshow(\"YOLOv8 Tracking\", annotated_frame)\n",
    "\n",
    "        # Break the loop if 'q' is pressed\n",
    "        if cv2.waitKey(1) & 0xFF == ord(\"q\"):\n",
    "            break\n",
    "    else:\n",
    "        # Break the loop if the end of the video is reached\n",
    "        break\n",
    "\n",
    "# Release the video capture object and close the display window\n",
    "cap.release()\n",
    "cv2.destroyAllWindows()"
   ],
   "metadata": {
    "collapsed": false,
    "ExecuteTime": {
     "end_time": "2024-03-19T21:21:43.950158900Z",
     "start_time": "2024-03-19T21:21:41.410720Z"
    }
   },
   "id": "39a2f38b95d07ec2"
  }
 ],
 "metadata": {
  "kernelspec": {
   "display_name": "Python 3",
   "language": "python",
   "name": "python3"
  },
  "language_info": {
   "codemirror_mode": {
    "name": "ipython",
    "version": 2
   },
   "file_extension": ".py",
   "mimetype": "text/x-python",
   "name": "python",
   "nbconvert_exporter": "python",
   "pygments_lexer": "ipython2",
   "version": "2.7.6"
  }
 },
 "nbformat": 4,
 "nbformat_minor": 5
}
