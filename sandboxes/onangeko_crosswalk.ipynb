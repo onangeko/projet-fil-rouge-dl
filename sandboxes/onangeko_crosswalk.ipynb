{
 "cells": [
  {
   "cell_type": "code",
   "execution_count": 77,
   "id": "initial_id",
   "metadata": {
    "collapsed": true,
    "ExecuteTime": {
     "end_time": "2024-03-22T13:28:00.295402200Z",
     "start_time": "2024-03-22T13:28:00.278101700Z"
    }
   },
   "outputs": [],
   "source": [
    "from ultralytics import YOLO\n",
    "from pathlib import Path\n",
    "import torch\n",
    "import torch.nn as nn\n",
    "from copy import deepcopy\n",
    "import os\n",
    "import sys\n",
    "import cv2"
   ]
  },
  {
   "cell_type": "code",
   "execution_count": 79,
   "outputs": [],
   "source": [
    "sys.path.append(r'C:\\Users\\lemur\\PycharmProjects\\projet-fil-rouge-dl\\CDNet')"
   ],
   "metadata": {
    "collapsed": false,
    "ExecuteTime": {
     "end_time": "2024-03-22T13:28:00.341073200Z",
     "start_time": "2024-03-22T13:28:00.315844100Z"
    }
   },
   "id": "c3fe5fe4a9593872"
  },
  {
   "cell_type": "code",
   "execution_count": 80,
   "outputs": [],
   "source": [
    "from detect import detect\n",
    "from models.yoloSE import ModelSE"
   ],
   "metadata": {
    "collapsed": false,
    "ExecuteTime": {
     "end_time": "2024-03-22T13:28:00.341073200Z",
     "start_time": "2024-03-22T13:28:00.326067300Z"
    }
   },
   "id": "f33657814bb3a846"
  },
  {
   "cell_type": "code",
   "execution_count": 81,
   "outputs": [
    {
     "data": {
      "text/plain": "models.yoloSE.ModelSE"
     },
     "execution_count": 81,
     "metadata": {},
     "output_type": "execute_result"
    }
   ],
   "source": [
    "ModelSE"
   ],
   "metadata": {
    "collapsed": false,
    "ExecuteTime": {
     "end_time": "2024-03-22T13:28:00.356988100Z",
     "start_time": "2024-03-22T13:28:00.341073200Z"
    }
   },
   "id": "182a7dda385ccd2"
  },
  {
   "cell_type": "code",
   "execution_count": 82,
   "outputs": [
    {
     "name": "stdout",
     "output_type": "stream",
     "text": [
      "Overriding yolov5m.yaml nc=2 with nc=80\n",
      "\n",
      "                 from  n    params  module                                  arguments                     \n",
      "  0                -1  1      5280  models.commonSE.Focus                   [3, 48, 3]                    \n",
      "  1                -1  1     41664  models.commonSE.Conv                    [48, 96, 3, 2]                \n",
      "  2                -1  1     68256  models.commonSE.BottleneckCSP           [96, 96, 2]                   \n",
      "  3                -1  1    166272  models.commonSE.Conv                    [96, 192, 3, 2]               \n",
      "  4                -1  1    646080  models.commonSE.BottleneckCSP           [192, 192, 6]                 \n",
      "  5                -1  1    664320  models.commonSE.Conv                    [192, 384, 3, 2]              \n",
      "  6                -1  1   2577792  models.commonSE.BottleneckCSP           [384, 384, 6]                 \n",
      "  7                -1  1   2655744  models.commonSE.Conv                    [384, 768, 3, 2]              \n",
      "  8                -1  1   1476864  models.commonSE.SPP                     [768, 768, [5, 9, 13]]        \n",
      "  9                -1  1   4320000  models.commonSE.BottleneckCSP           [768, 768, 2, False]          \n",
      " 10                -1  1    295680  models.commonSE.Conv                    [768, 384, 1, 1]              \n",
      " 11                -1  1         0  torch.nn.modules.upsampling.Upsample    [None, 2, 'nearest']          \n",
      " 12           [-1, 6]  1         0  models.commonSE.Concat                  [1]                           \n",
      " 13                -1  1   1229184  models.commonSE.BottleneckCSP           [768, 384, 2, False]          \n",
      " 14                -1  1     74112  models.commonSE.Conv                    [384, 192, 1, 1]              \n",
      " 15                -1  1         0  torch.nn.modules.upsampling.Upsample    [None, 2, 'nearest']          \n",
      " 16           [-1, 4]  1         0  models.commonSE.Concat                  [1]                           \n",
      " 17                -1  1    308160  models.commonSE.BottleneckCSP           [384, 192, 2, False]          \n",
      " 18                -1  1    332160  models.commonSE.Conv                    [192, 192, 3, 2]              \n",
      " 19          [-1, 14]  1         0  models.commonSE.Concat                  [1]                           \n",
      " 20                -1  1   1081728  models.commonSE.BottleneckCSP           [384, 384, 2, False]          \n",
      " 21                -1  1   1327872  models.commonSE.Conv                    [384, 384, 3, 2]              \n",
      " 22          [-1, 10]  1         0  models.commonSE.Concat                  [1]                           \n",
      " 23                -1  1   4320000  models.commonSE.BottleneckCSP           [768, 768, 2, False]          \n",
      " 24      [17, 20, 23]  1    343485  models.yoloSE.Detect                    [80, [[10, 13, 16, 30, 33, 23], [30, 61, 62, 45, 59, 119], [116, 90, 156, 198, 373, 326]], [192, 384, 768]]\n",
      "Model Summary: 311 layers, 2.19347e+07 parameters, 2.19347e+07 gradients, 52.6 GFLOPS\n"
     ]
    }
   ],
   "source": [
    "# Load model\n",
    "model = ModelSE(cfg='yolov5m.yaml', ch=3, nc=80)  # model, channel, number of classes"
   ],
   "metadata": {
    "collapsed": false,
    "ExecuteTime": {
     "end_time": "2024-03-22T13:28:00.742038200Z",
     "start_time": "2024-03-22T13:28:00.356988100Z"
    }
   },
   "id": "59e165501aef1379"
  },
  {
   "cell_type": "code",
   "execution_count": 83,
   "outputs": [],
   "source": [
    "from utils.general import strip_optimizer"
   ],
   "metadata": {
    "collapsed": false,
    "ExecuteTime": {
     "end_time": "2024-03-22T13:28:00.755645100Z",
     "start_time": "2024-03-22T13:28:00.743121600Z"
    }
   },
   "id": "5e77734c79dd0c18"
  },
  {
   "cell_type": "code",
   "execution_count": 84,
   "outputs": [
    {
     "name": "stdout",
     "output_type": "stream",
     "text": [
      "Optimizer stripped from crosswalk_yolo.pt, saved as crosswalk_yolo_1.pt, 43.6MB\n"
     ]
    }
   ],
   "source": [
    "strip_optimizer('crosswalk_yolo.pt','crosswalk_yolo_1.pt')"
   ],
   "metadata": {
    "collapsed": false,
    "ExecuteTime": {
     "end_time": "2024-03-22T13:28:01.043461800Z",
     "start_time": "2024-03-22T13:28:00.755645100Z"
    }
   },
   "id": "1bb4b718183a5beb"
  },
  {
   "cell_type": "code",
   "execution_count": 85,
   "outputs": [],
   "source": [
    "loaded_state_dict = torch.load('crosswalk_yolo_1.pt') "
   ],
   "metadata": {
    "collapsed": false,
    "ExecuteTime": {
     "end_time": "2024-03-22T13:28:01.122746700Z",
     "start_time": "2024-03-22T13:28:01.043461800Z"
    }
   },
   "id": "a3234c4ac007b780"
  },
  {
   "cell_type": "code",
   "execution_count": 86,
   "outputs": [
    {
     "data": {
      "text/plain": "_IncompatibleKeys(missing_keys=['model.24.anchors', 'model.24.anchor_grid', 'model.24.m.0.weight', 'model.24.m.0.bias', 'model.24.m.1.weight', 'model.24.m.1.bias', 'model.24.m.2.weight', 'model.24.m.2.bias'], unexpected_keys=[])"
     },
     "execution_count": 86,
     "metadata": {},
     "output_type": "execute_result"
    }
   ],
   "source": [
    "exclude = ['anchor']  # exclude keys\n",
    "loaded_state_dict['model'] = {k: v for k, v in loaded_state_dict['model'].float().state_dict().items()\n",
    "                 if k in model.state_dict() and not any(x in k for x in exclude)\n",
    "\t\t\t\t\t\t\t and model.state_dict()[k].shape == v.shape}\n",
    "model.load_state_dict(loaded_state_dict['model'], strict=False)"
   ],
   "metadata": {
    "collapsed": false,
    "ExecuteTime": {
     "end_time": "2024-03-22T13:28:03.387548600Z",
     "start_time": "2024-03-22T13:28:01.122746700Z"
    }
   },
   "id": "b130802607746540"
  }
 ],
 "metadata": {
  "kernelspec": {
   "display_name": "Python 3",
   "language": "python",
   "name": "python3"
  },
  "language_info": {
   "codemirror_mode": {
    "name": "ipython",
    "version": 2
   },
   "file_extension": ".py",
   "mimetype": "text/x-python",
   "name": "python",
   "nbconvert_exporter": "python",
   "pygments_lexer": "ipython2",
   "version": "2.7.6"
  }
 },
 "nbformat": 4,
 "nbformat_minor": 5
}
