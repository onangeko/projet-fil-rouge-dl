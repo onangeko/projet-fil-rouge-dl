{
 "cells": [
  {
   "cell_type": "code",
   "execution_count": 2,
   "id": "initial_id",
   "metadata": {
    "collapsed": true
   },
   "outputs": [],
   "source": [
    "from ultralytics import YOLO\n",
    "import cv2 as cv\n",
    "\n",
    "model = YOLO('yolov8n.pt')"
   ]
  },
  {
   "cell_type": "code",
   "execution_count": null,
   "id": "80742446",
   "metadata": {},
   "outputs": [],
   "source": [
    "\n",
    "results = model.train(data='VisDrone.yaml', epochs=100, imgsz=640, batch=8)\n",
    "results"
   ]
  },
  {
   "cell_type": "code",
   "execution_count": 39,
   "id": "a2f78a01",
   "metadata": {},
   "outputs": [
    {
     "data": {
      "text/plain": [
       "dict_values(['person', 'bicycle', 'car', 'motorcycle', 'airplane', 'bus', 'train', 'truck', 'boat', 'traffic light', 'fire hydrant', 'stop sign', 'parking meter', 'bench', 'bird', 'cat', 'dog', 'horse', 'sheep', 'cow', 'elephant', 'bear', 'zebra', 'giraffe', 'backpack', 'umbrella', 'handbag', 'tie', 'suitcase', 'frisbee', 'skis', 'snowboard', 'sports ball', 'kite', 'baseball bat', 'baseball glove', 'skateboard', 'surfboard', 'tennis racket', 'bottle', 'wine glass', 'cup', 'fork', 'knife', 'spoon', 'bowl', 'banana', 'apple', 'sandwich', 'orange', 'broccoli', 'carrot', 'hot dog', 'pizza', 'donut', 'cake', 'chair', 'couch', 'potted plant', 'bed', 'dining table', 'toilet', 'tv', 'laptop', 'mouse', 'remote', 'keyboard', 'cell phone', 'microwave', 'oven', 'toaster', 'sink', 'refrigerator', 'book', 'clock', 'vase', 'scissors', 'teddy bear', 'hair drier', 'toothbrush'])"
      ]
     },
     "execution_count": 39,
     "metadata": {},
     "output_type": "execute_result"
    }
   ],
   "source": [
    "model.names.values()"
   ]
  },
  {
   "cell_type": "code",
   "execution_count": 34,
   "id": "e24a36e3",
   "metadata": {},
   "outputs": [
    {
     "name": "stdout",
     "output_type": "stream",
     "text": [
      "\n",
      "0: 384x640 2 persons, 11 cars, 2 buss, 1 truck, 57.0ms\n",
      "Speed: 4.0ms preprocess, 57.0ms inference, 3.0ms postprocess per image at shape (1, 3, 384, 640)\n"
     ]
    }
   ],
   "source": [
    "import os\n",
    "from PIL import Image, ImageDraw\n",
    "import numpy as np\n",
    "from ultralytics import YOLO\n",
    "from ultralytics.utils.plotting import Annotator\n",
    "\n",
    "# Load the YOLO model\n",
    "model = YOLO('yolov8n.pt')\n",
    "\n",
    "# Load the image you want to test\n",
    "image_path = r\"D:\\etudes\\Ynov\\Deep Learning\\fil-rouge\\projet-fil-rouge-dl\\sandboxes\\datasets\\VisDrone\\VisDrone2019-DET-test-dev\\images\\0000006_01111_d_0000003.jpg\"\n",
    "image = Image.open(image_path)\n",
    "\n",
    "# Perform object detection on the image\n",
    "results = model.predict(image)\n",
    "\n",
    "# Create a folder to save extracted objects\n",
    "extracted_folder = 'extracted'\n",
    "os.makedirs(extracted_folder, exist_ok=True)\n",
    "\n",
    "# Convert the PIL image to a NumPy array\n",
    "image_np = np.array(image)\n",
    "\n",
    "# Draw bounding boxes on the image\n",
    "annotator = Annotator(image_np)\n",
    "for i, r in enumerate(results):\n",
    "    boxes = r.boxes\n",
    "    for j, box in enumerate(boxes):\n",
    "        # Extract coordinates from the Tensor box\n",
    "        b = box.xyxy[0].cpu().numpy()  # Convert Tensor to NumPy array\n",
    "        b = b.astype(int)  # Convert to integer\n",
    "        \n",
    "        c = box.cls\n",
    "        annotator.box_label(b, model.names[int(c)])\n",
    "        \n",
    "        # Extract object and save it\n",
    "        extracted_image = image.crop((b[0], b[1], b[2], b[3]))\n",
    "        extracted_image.save(os.path.join(extracted_folder, f'extracted_{i}_{j}.jpg'))\n",
    "\n",
    "# Get the image with bounding boxes\n",
    "img_prediction = annotator.result()\n",
    "\n",
    "# Display the image with bounding boxes\n",
    "Image.fromarray(img_prediction).show()\n"
   ]
  },
  {
   "cell_type": "code",
   "execution_count": null,
   "id": "d44f3a49",
   "metadata": {},
   "outputs": [],
   "source": [
    "vehicles = ['bicycle', 'car', 'motorcycle', 'airplane', 'bus', 'train', 'truck', 'boat']"
   ]
  }
 ],
 "metadata": {
  "kernelspec": {
   "display_name": "Python 3",
   "language": "python",
   "name": "python3"
  },
  "language_info": {
   "codemirror_mode": {
    "name": "ipython",
    "version": 3
   },
   "file_extension": ".py",
   "mimetype": "text/x-python",
   "name": "python",
   "nbconvert_exporter": "python",
   "pygments_lexer": "ipython3",
   "version": "3.10.13"
  }
 },
 "nbformat": 4,
 "nbformat_minor": 5
}
