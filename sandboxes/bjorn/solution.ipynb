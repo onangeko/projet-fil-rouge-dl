{
 "cells": [
  {
   "cell_type": "code",
   "execution_count": 37,
   "id": "17ce4618-2cff-4fb5-8b08-08459ca5584f",
   "metadata": {
    "ExecuteTime": {
     "end_time": "2024-04-11T11:20:20.749509900Z",
     "start_time": "2024-04-11T11:20:20.575049Z"
    }
   },
   "outputs": [],
   "source": [
    "import cv2\n",
    "import pandas as pd\n",
    "from ultralytics import YOLO\n",
    "from tracker import*\n",
    "\n",
    "model=YOLO('yolov9c.pt')\n",
    "\n",
    "class_list = ['person', 'bicycle', 'car', 'motorcycle', 'airplane', 'bus', 'train', 'truck', 'boat', 'traffic light', 'fire hydrant', 'stop sign', 'parking meter', 'bench', 'bird', 'cat', 'dog', 'horse', 'sheep', 'cow', 'elephant', 'bear', 'zebra', 'giraffe', 'backpack', 'umbrella', 'handbag', 'tie', 'suitcase', 'frisbee', 'skis', 'snowboard', 'sports ball', 'kite', 'baseball bat', 'baseball glove', 'skateboard', 'surfboard', 'tennis racket', 'bottle', 'wine glass', 'cup', 'fork', 'knife', 'spoon', 'bowl', 'banana', 'apple', 'sandwich', 'orange', 'broccoli', 'carrot', 'hot dog', 'pizza', 'donut', 'cake', 'chair', 'couch', 'potted plant', 'bed', 'dining table', 'toilet', 'tv', 'laptop', 'mouse', 'remote', 'keyboard', 'cell phone', 'microwave', 'oven', 'toaster', 'sink', 'refrigerator', 'book', 'clock', 'vase', 'scissors', 'teddy bear', 'hair drier', 'toothbrush']"
   ]
  },
  {
   "cell_type": "code",
   "execution_count": 38,
   "id": "b4b4ff3b-f314-4d32-9430-8d56600f0685",
   "metadata": {
    "ExecuteTime": {
     "end_time": "2024-04-11T11:20:20.765026200Z",
     "start_time": "2024-04-11T11:20:20.751514600Z"
    }
   },
   "outputs": [],
   "source": [
    "tracker=Tracker()\n",
    "count=0"
   ]
  },
  {
   "cell_type": "code",
   "execution_count": 39,
   "outputs": [],
   "source": [
    "import cv2\n",
    "\n",
    "def reduce_frame(input_video, output_video, keep_every_n_frame):\n",
    "    cap = cv2.VideoCapture(input_video)\n",
    "    frame_width = int(cap.get(cv2.CAP_PROP_FRAME_WIDTH))\n",
    "    frame_height = int(cap.get(cv2.CAP_PROP_FRAME_HEIGHT))\n",
    "    fps = int(cap.get(cv2.CAP_PROP_FPS))\n",
    "    total_frames = int(cap.get(cv2.CAP_PROP_FRAME_COUNT))\n",
    "\n",
    "    # Déterminez le nombre de frames à conserver\n",
    "    num_frames_to_keep = total_frames // keep_every_n_frame\n",
    "\n",
    "    # Définir le codec et le writer pour la nouvelle vidéo\n",
    "    fourcc = cv2.VideoWriter_fourcc(*'mp4v')\n",
    "    out = cv2.VideoWriter(output_video, fourcc, fps, (frame_width, frame_height))\n",
    "\n",
    "    count = 0\n",
    "    while cap.isOpened():\n",
    "        ret, frame = cap.read()\n",
    "        if not ret:\n",
    "            break\n",
    "\n",
    "        # Écriture de la frame toutes les 'keep_every_n_frame' frames\n",
    "        if count % keep_every_n_frame == 0:\n",
    "            out.write(frame)\n",
    "\n",
    "        count += 1\n",
    "        if count >= num_frames_to_keep * keep_every_n_frame:\n",
    "            break\n",
    "\n",
    "    cap.release()\n",
    "    out.release()\n",
    "    cv2.destroyAllWindows()\n",
    "\n",
    "# Utilisation de la fonction\n",
    "input_video = 'cars_2.mp4'\n",
    "output_video = 'cars_2_mod.mp4'\n",
    "keep_every_n_frame = 1  # Vous pouvez ajuster cela en fonction de vos besoins\n",
    "\n",
    "reduce_frame(input_video, output_video, keep_every_n_frame)\n"
   ],
   "metadata": {
    "collapsed": false,
    "ExecuteTime": {
     "end_time": "2024-04-11T11:20:36.100133600Z",
     "start_time": "2024-04-11T11:20:20.775031200Z"
    }
   },
   "id": "1680dc05ffc4927a"
  },
  {
   "cell_type": "code",
   "execution_count": 40,
   "id": "3cae7cd7-8ed6-4d39-aefa-82b39795e873",
   "metadata": {
    "ExecuteTime": {
     "end_time": "2024-04-11T11:20:41.013037900Z",
     "start_time": "2024-04-11T11:20:36.112131400Z"
    }
   },
   "outputs": [
    {
     "name": "stdout",
     "output_type": "stream",
     "text": [
      "0: 384x640 7 cars, 1 truck, 1 umbrella, 520.2ms\n",
      "Speed: 2.0ms preprocess, 520.2ms inference, 1.0ms postprocess per image at shape (1, 3, 384, 640)\n",
      "0: 384x640 8 cars, 1 truck, 669.2ms\n",
      "Speed: 3.0ms preprocess, 669.2ms inference, 1.0ms postprocess per image at shape (1, 3, 384, 640)\n",
      "0: 384x640 8 cars, 1 truck, 704.0ms\n",
      "Speed: 2.0ms preprocess, 704.0ms inference, 2.0ms postprocess per image at shape (1, 3, 384, 640)\n",
      "0: 384x640 8 cars, 700.0ms\n",
      "Speed: 2.0ms preprocess, 700.0ms inference, 2.0ms postprocess per image at shape (1, 3, 384, 640)\n"
     ]
    }
   ],
   "source": [
    "cap=cv2.VideoCapture('cars_2_mod.mp4')\n",
    "\n",
    "down={}\n",
    "counter_down=set()\n",
    "while True:    \n",
    "    ret,frame = cap.read()\n",
    "    if not ret:\n",
    "        break\n",
    "    count += 1\n",
    "\n",
    "    results=model.predict(frame)\n",
    "\n",
    "    a=results[0].boxes.data\n",
    "    a = a.detach().cpu().numpy()  \n",
    "    px=pd.DataFrame(a).astype(\"float\")\n",
    "    #print(px)\n",
    "    \n",
    "    list=[]\n",
    "             \n",
    "    for index,row in px.iterrows():\n",
    "#        print(row) \n",
    "        x1=int(row[0])\n",
    "        y1=int(row[1])\n",
    "        x2=int(row[2])\n",
    "        y2=int(row[3])\n",
    "        d=int(row[5])\n",
    "        c=class_list[d]\n",
    "        if 'car' in c:\n",
    "            list.append([x1,y1,x2,y2])\n",
    "\n",
    "\n",
    "    bbox_id=tracker.update(list)\n",
    "    #print(bbox_id)\n",
    "    for bbox in bbox_id:\n",
    "        x3,y3,x4,y4,id=bbox\n",
    "        cx=int(x3+x4)//2\n",
    "        cy=int(y3+y4)//2\n",
    "        cv2.circle(frame,(cx,cy),4,(0,0,255),-1) #draw ceter points of bounding box\n",
    "        cv2.rectangle(frame, (x3, y3), (x4, y4), (0, 255, 0), 1)  # Draw bounding box\n",
    "        # cv2.putText(frame,str(id),(cx,cy),cv2.FONT_HERSHEY_COMPLEX,0.8,(0,255,255),2)\n",
    "\n",
    "\n",
    "\n",
    "        y = 308\n",
    "        offset = 7\n",
    "    \n",
    "        ''' condition for red line '''\n",
    "        if y < (cy + offset) and y > (cy - offset):\n",
    "          ''' this if condition is putting the id and the circle on the object when the center of the object touched the red line.'''\n",
    "          \n",
    "          down[id]=cy   #cy is current position. saving the ids of the cars which are touching the red line first. \n",
    "          #This will tell us the travelling direction of the car.\n",
    "          if id in down:         \n",
    "           cv2.circle(frame,(cx,cy),4,(0,0,255),-1)\n",
    "           cv2.putText(frame,str(id),(cx,cy),cv2.FONT_HERSHEY_COMPLEX,0.8,(0,255,255),2)\n",
    "           counter_down.add(id) \n",
    "\n",
    "    # # line\n",
    "    text_color = (255,255,255)  # white color for text\n",
    "    red_color = (0, 0, 255)  # (B, G, R)   \n",
    "    \n",
    "    # print(down)\n",
    "    #cv2.line(frame,(282,408),(1004,408),red_color,2)  #  starting cordinates and end of line cordinates\n",
    "    #cv2.putText(frame,('red line'),(280,408),cv2.FONT_HERSHEY_SIMPLEX, 0.5, text_color, 1, cv2.LINE_AA) \n",
    "    cv2.line(frame,(0,320),(1004,320),red_color,1)  #  starting cordinates and end of line cordinates\n",
    "    cv2.putText(frame,('red line'),(0,320),cv2.FONT_HERSHEY_SIMPLEX, 0.5, text_color, 1, cv2.LINE_AA) \n",
    "\n",
    "\n",
    "    downwards = (len(counter_down))\n",
    "    cv2.putText(frame,('count - ')+ str(downwards),(60,40),cv2.FONT_HERSHEY_SIMPLEX, 0.5, red_color, 1, cv2.LINE_AA) \n",
    "    \n",
    "\n",
    "\n",
    "    # cv2.line(frame,(282,308),(1004,308),red_color,3)  #  starting cordinates and end of line cordinates\n",
    "    # cv2.putText(frame,('red line'),(280,308),cv2.FONT_HERSHEY_SIMPLEX, 0.5, text_color, 1, cv2.LINE_AA)    \n",
    "    \n",
    "    cv2.imshow(\"frames\", frame)\n",
    "    if cv2.waitKey(1)&0xFF==27:\n",
    "        break\n",
    "cap.release()\n",
    "cv2.destroyAllWindows()"
   ]
  },
  {
   "cell_type": "code",
   "execution_count": 40,
   "id": "faccbd57-a2dd-46c1-a79b-fd9c2a275fe4",
   "metadata": {
    "ExecuteTime": {
     "end_time": "2024-04-11T11:20:41.013037900Z",
     "start_time": "2024-04-11T11:20:40.954488200Z"
    }
   },
   "outputs": [],
   "source": []
  }
 ],
 "metadata": {
  "kernelspec": {
   "display_name": "Python 3 (ipykernel)",
   "language": "python",
   "name": "python3"
  },
  "language_info": {
   "codemirror_mode": {
    "name": "ipython",
    "version": 3
   },
   "file_extension": ".py",
   "mimetype": "text/x-python",
   "name": "python",
   "nbconvert_exporter": "python",
   "pygments_lexer": "ipython3",
   "version": "3.11.6"
  }
 },
 "nbformat": 4,
 "nbformat_minor": 5
}
